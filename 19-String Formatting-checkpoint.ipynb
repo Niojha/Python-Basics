{
 "cells": [
  {
   "cell_type": "code",
   "execution_count": 1,
   "metadata": {},
   "outputs": [
    {
     "name": "stdout",
     "output_type": "stream",
     "text": [
      "i am going to wear black dress in the party\n"
     ]
    }
   ],
   "source": [
    "print(\"i am going to wear %s dress in the party\" %'black')"
   ]
  },
  {
   "cell_type": "code",
   "execution_count": 2,
   "metadata": {},
   "outputs": [
    {
     "name": "stdout",
     "output_type": "stream",
     "text": [
      "i am going to wear black shirt and jeans pant in todays party\n"
     ]
    }
   ],
   "source": [
    "print(\"i am going to wear %s shirt and %s pant in todays party\" %('black','jeans'))"
   ]
  },
  {
   "cell_type": "code",
   "execution_count": 3,
   "metadata": {},
   "outputs": [
    {
     "name": "stdout",
     "output_type": "stream",
     "text": [
      "i am going to wear black shirt and jeans pant in todays party\n"
     ]
    }
   ],
   "source": [
    " x,y = 'black','jeans'\n",
    "print(\"i am going to wear %s shirt and %s pant in todays party\" %(x,y))    "
   ]
  },
  {
   "cell_type": "code",
   "execution_count": 4,
   "metadata": {},
   "outputs": [
    {
     "name": "stdout",
     "output_type": "stream",
     "text": [
      "i said my name is nirmal\n"
     ]
    }
   ],
   "source": [
    "print('i said my name is %s' %'nirmal')"
   ]
  },
  {
   "cell_type": "code",
   "execution_count": 5,
   "metadata": {},
   "outputs": [
    {
     "name": "stdout",
     "output_type": "stream",
     "text": [
      "i said my name is 'nirmal'\n"
     ]
    }
   ],
   "source": [
    "print('i said my name is %r' %'nirmal')"
   ]
  },
  {
   "cell_type": "code",
   "execution_count": 6,
   "metadata": {},
   "outputs": [
    {
     "name": "stdout",
     "output_type": "stream",
     "text": [
      "i lost 4.25 weight in this year\n"
     ]
    }
   ],
   "source": [
    "print('i lost %s weight in this year' %'4.25')"
   ]
  },
  {
   "cell_type": "code",
   "execution_count": 7,
   "metadata": {},
   "outputs": [
    {
     "name": "stdout",
     "output_type": "stream",
     "text": [
      "i lost 4 weight in this year\n"
     ]
    }
   ],
   "source": [
    "print('i lost %d weight in this year' %4.25)"
   ]
  },
  {
   "cell_type": "markdown",
   "metadata": {},
   "source": [
    "## Padding and Precision of Floating point numbers\n",
    "\n",
    " %5 stands for the number of characters the string should contain.\n",
    " .2f stands for how many numbers to show after decimal point."
   ]
  },
  {
   "cell_type": "code",
   "execution_count": 8,
   "metadata": {},
   "outputs": [
    {
     "name": "stdout",
     "output_type": "stream",
     "text": [
      "showing floating point numbers: 23.12\n"
     ]
    }
   ],
   "source": [
    "print('showing floating point numbers: %5.2f' %(23.123))"
   ]
  },
  {
   "cell_type": "code",
   "execution_count": 9,
   "metadata": {},
   "outputs": [
    {
     "name": "stdout",
     "output_type": "stream",
     "text": [
      "showing floating point numbers: 23\n"
     ]
    }
   ],
   "source": [
    "print('showing floating point numbers: %2.0f' %(23.123))"
   ]
  },
  {
   "cell_type": "code",
   "execution_count": 10,
   "metadata": {},
   "outputs": [
    {
     "name": "stdout",
     "output_type": "stream",
     "text": [
      "showing floating point numbers: 23.12300\n"
     ]
    }
   ],
   "source": [
    "print('showing floating point numbers: %2.5f' %(23.123))"
   ]
  },
  {
   "cell_type": "code",
   "execution_count": 11,
   "metadata": {},
   "outputs": [
    {
     "name": "stdout",
     "output_type": "stream",
     "text": [
      "showing floating point numbers: 23.1230000000\n"
     ]
    }
   ],
   "source": [
    "print('showing floating point numbers: %10.10f' %(23.123))"
   ]
  },
  {
   "cell_type": "code",
   "execution_count": 12,
   "metadata": {},
   "outputs": [
    {
     "name": "stdout",
     "output_type": "stream",
     "text": [
      "first: hi, Second: 23, Third: 'nirmal' fourth: 23.12340\n"
     ]
    }
   ],
   "source": [
    "print('first: %s, Second: %d, Third: %r fourth: %5.5f' %('hi',23.1234,'nirmal',23.1234))"
   ]
  },
  {
   "cell_type": "markdown",
   "metadata": {},
   "source": [
    "# Formatting with .Format() method\n",
    "  \n",
    "  'String with {} and next {}'.format('first','second')"
   ]
  },
  {
   "cell_type": "code",
   "execution_count": 13,
   "metadata": {},
   "outputs": [
    {
     "name": "stdout",
     "output_type": "stream",
     "text": [
      "string with first and second curly braces\n"
     ]
    }
   ],
   "source": [
    "print('string with {} and {} curly braces'.format('first','second'))"
   ]
  },
  {
   "cell_type": "markdown",
   "metadata": {},
   "source": [
    "## objects can be called through index position"
   ]
  },
  {
   "cell_type": "code",
   "execution_count": 14,
   "metadata": {},
   "outputs": [
    {
     "name": "stdout",
     "output_type": "stream",
     "text": [
      "this is index2 index1 index0\n"
     ]
    }
   ],
   "source": [
    "print('this is {2} {1} {0}'.format('index0','index1','index2'))"
   ]
  },
  {
   "cell_type": "code",
   "execution_count": 15,
   "metadata": {},
   "outputs": [],
   "source": [
    "## Inserted objects can be assigned"
   ]
  },
  {
   "cell_type": "code",
   "execution_count": 16,
   "metadata": {},
   "outputs": [
    {
     "name": "stdout",
     "output_type": "stream",
     "text": [
      "object_one: suman, object_two: 23.23, object_three: 3\n"
     ]
    }
   ],
   "source": [
    "print('object_one: {a}, object_two: {b}, object_three: {c}'.format(a='suman',b= 23.23,c=3))"
   ]
  },
  {
   "cell_type": "code",
   "execution_count": 17,
   "metadata": {},
   "outputs": [],
   "source": [
    "## objects can be reused to avoid duplication"
   ]
  },
  {
   "cell_type": "code",
   "execution_count": 18,
   "metadata": {},
   "outputs": [
    {
     "name": "stdout",
     "output_type": "stream",
     "text": [
      "my name is not a name\n",
      "my name is not a name\n"
     ]
    }
   ],
   "source": [
    "print('my %s is not a %s' %('name','name'))\n",
    "# vs.\n",
    "print('my {p} is not a {p}'.format(p = 'name'))"
   ]
  },
  {
   "cell_type": "code",
   "execution_count": 19,
   "metadata": {},
   "outputs": [],
   "source": [
    "##Alignment,padding and precision"
   ]
  },
  {
   "cell_type": "code",
   "execution_count": 20,
   "metadata": {},
   "outputs": [
    {
     "name": "stdout",
     "output_type": "stream",
     "text": [
      "fruit    | quantity \n",
      "orange   | 3.       \n",
      "apple    | 10       \n"
     ]
    }
   ],
   "source": [
    "print('{0:8} | {1:9}'.format('fruit','quantity'))\n",
    "print('{0:8} | {1:9}'.format('orange','3.'))\n",
    "print('{0:8} | {1:9}'.format('apple','10'))"
   ]
  },
  {
   "cell_type": "code",
   "execution_count": 21,
   "metadata": {},
   "outputs": [
    {
     "name": "stdout",
     "output_type": "stream",
     "text": [
      "students |   boys   |    girls\n",
      "50       |    30    |       20\n"
     ]
    }
   ],
   "source": [
    "print('{0:8} | {1:^8} | {2:>8}'.format('students','boys','girls'))\n",
    "print('{0:8} | {1:^8} | {2:>8}'.format('50','30','20'))"
   ]
  },
  {
   "cell_type": "code",
   "execution_count": 22,
   "metadata": {},
   "outputs": [
    {
     "name": "stdout",
     "output_type": "stream",
     "text": [
      "left==== | -centre- | ...right\n",
      "12====== | --113--- | ......14\n"
     ]
    }
   ],
   "source": [
    "print('{0:=<8} | {1:-^8} | {2:.>8}'.format('left','centre','right'))\n",
    "print('{0:=<8} | {1:-^8} | {2:.>8}'.format('12','113','14'))"
   ]
  },
  {
   "cell_type": "code",
   "execution_count": 23,
   "metadata": {},
   "outputs": [
    {
     "name": "stdout",
     "output_type": "stream",
     "text": [
      "input:     13.53\n",
      "input:     13.53\n"
     ]
    }
   ],
   "source": [
    "print('input:%10.2f' %13.534)\n",
    "print('input:{0:10.2f}'.format(13.534))"
   ]
  },
  {
   "cell_type": "markdown",
   "metadata": {},
   "source": [
    "# F-strings"
   ]
  },
  {
   "cell_type": "code",
   "execution_count": 24,
   "metadata": {},
   "outputs": [
    {
     "name": "stdout",
     "output_type": "stream",
     "text": [
      "his name is ojha\n"
     ]
    }
   ],
   "source": [
    "name = 'ojha'\n",
    "print(f\"his name is {name}\")"
   ]
  },
  {
   "cell_type": "code",
   "execution_count": 25,
   "metadata": {},
   "outputs": [
    {
     "name": "stdout",
     "output_type": "stream",
     "text": [
      "his name is 'ojha'\n"
     ]
    }
   ],
   "source": [
    "print(f\"his name is {name!r}\")"
   ]
  },
  {
   "cell_type": "code",
   "execution_count": 26,
   "metadata": {},
   "outputs": [
    {
     "name": "stdout",
     "output_type": "stream",
     "text": [
      "my 10 character and 4 decimal number:    23.2345\n",
      "my 10 character and 4 decimal number:   23.2345\n"
     ]
    }
   ],
   "source": [
    "num = 23.2345\n",
    "print(\"my 10 character and 4 decimal number: {0:10.4f}\".format(num))\n",
    "print(f\"my 10 character and 4 decimal number:{num: {10}.{6}}\")"
   ]
  }
 ],
 "metadata": {
  "kernelspec": {
   "display_name": "Python 3",
   "language": "python",
   "name": "python3"
  },
  "language_info": {
   "codemirror_mode": {
    "name": "ipython",
    "version": 3
   },
   "file_extension": ".py",
   "mimetype": "text/x-python",
   "name": "python",
   "nbconvert_exporter": "python",
   "pygments_lexer": "ipython3",
   "version": "3.6.5"
  }
 },
 "nbformat": 4,
 "nbformat_minor": 2
}
