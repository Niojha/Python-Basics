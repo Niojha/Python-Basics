{
 "cells": [
  {
   "cell_type": "markdown",
   "metadata": {},
   "source": [
    "## String Formatting\n",
    "\n",
    "There are three ways to perform string formatting.\n",
    "\n",
    "The oldest method involves placeholders using the modulo % character.\n",
    "\n",
    "An improved technique uses the .format() string method.\n",
    "\n",
    "The newest method, introduced with Python 3.6, uses formatted string literals, called f-strings."
   ]
  },
  {
   "cell_type": "markdown",
   "metadata": {},
   "source": [
    "### String Formatting with place holder\n",
    "\n",
    "You can use %s to inject strings into your print statements. The modulo % is referred to as a \"string formatting operator\"."
   ]
  },
  {
   "cell_type": "code",
   "execution_count": 8,
   "metadata": {},
   "outputs": [
    {
     "name": "stdout",
     "output_type": "stream",
     "text": [
      "you can write anything here\n"
     ]
    }
   ],
   "source": [
    "print(\"you can write %s here\" %'anything')"
   ]
  },
  {
   "cell_type": "code",
   "execution_count": 13,
   "metadata": {},
   "outputs": [
    {
     "name": "stdout",
     "output_type": "stream",
     "text": [
      "you can write your name here and gender here\n"
     ]
    }
   ],
   "source": [
    "#pass the items through tuple\n",
    "print(\"you can write your %s here and %s here\" %('name','gender'))"
   ]
  },
  {
   "cell_type": "code",
   "execution_count": 14,
   "metadata": {},
   "outputs": [
    {
     "name": "stdout",
     "output_type": "stream",
     "text": [
      "you can write your name here and gender here.\n"
     ]
    }
   ],
   "source": [
    "# pass through variables\n",
    "x,y = 'name','gender'\n",
    "print(\"you can write your %s here and %s here.\" %(x,y))"
   ]
  },
  {
   "cell_type": "markdown",
   "metadata": {},
   "source": [
    "### Format conversion methods\n",
    "\n",
    "It should be noted that two methods %s and %r convert any python object to a string using two separate methods: str() and repr(). "
   ]
  },
  {
   "cell_type": "code",
   "execution_count": 20,
   "metadata": {},
   "outputs": [
    {
     "name": "stdout",
     "output_type": "stream",
     "text": [
      "This is the new thing we will learn\n",
      "This is the new thing we will 'learn'\n"
     ]
    }
   ],
   "source": [
    "print(\"This is the new thing we will %s\" %'learn')\n",
    "print(\"This is the new thing we will %r\" %'learn')"
   ]
  },
  {
   "cell_type": "code",
   "execution_count": 21,
   "metadata": {},
   "outputs": [
    {
     "name": "stdout",
     "output_type": "stream",
     "text": [
      "This is my package 5.2\n",
      "This is my package 5\n"
     ]
    }
   ],
   "source": [
    "##%d makes the float value to integer \n",
    "print(\"This is my package %s\" %5.2)\n",
    "print(\"This is my package %d\" %5.2)"
   ]
  },
  {
   "cell_type": "code",
   "execution_count": 25,
   "metadata": {},
   "outputs": [
    {
     "name": "stdout",
     "output_type": "stream",
     "text": [
      "This is the distance between my two \t \t eyes.\n"
     ]
    }
   ],
   "source": [
    "# \\t gives a tab in our string\n",
    "print(\"This is the distance between my %s\" %'two \\t \\t eyes.')"
   ]
  },
  {
   "cell_type": "markdown",
   "metadata": {},
   "source": [
    "### Padding and precision of Floating poin numbers\n",
    "\n",
    "Floating point numbers use the format %5.2f. Here, 5 would be the minimum number of characters the string should contain; these may be padded with whitespace if the entire number does not have this many digits. Next to this, .2f stands for how many numbers to show past the decimal point. examples:"
   ]
  },
  {
   "cell_type": "code",
   "execution_count": 26,
   "metadata": {},
   "outputs": [
    {
     "name": "stdout",
     "output_type": "stream",
     "text": [
      "Floating point numbers: 15.14\n"
     ]
    }
   ],
   "source": [
    "print('Floating point numbers: %5.2f' %(15.145))"
   ]
  },
  {
   "cell_type": "code",
   "execution_count": 32,
   "metadata": {},
   "outputs": [
    {
     "name": "stdout",
     "output_type": "stream",
     "text": [
      "Floating point numbers: 15.1\n"
     ]
    }
   ],
   "source": [
    "print('Floating point numbers: %1.1f' %(15.145))"
   ]
  },
  {
   "cell_type": "code",
   "execution_count": 37,
   "metadata": {},
   "outputs": [
    {
     "name": "stdout",
     "output_type": "stream",
     "text": [
      "Floating point numbers: 15.1450000\n"
     ]
    }
   ],
   "source": [
    "print('Floating point numbers: %0.7f' %(15.145))"
   ]
  },
  {
   "cell_type": "code",
   "execution_count": 35,
   "metadata": {},
   "outputs": [
    {
     "name": "stdout",
     "output_type": "stream",
     "text": [
      "Floating point numbers: 15\n"
     ]
    }
   ],
   "source": [
    "print('Floating point numbers: %1.0f' %(15.145))"
   ]
  },
  {
   "cell_type": "code",
   "execution_count": 36,
   "metadata": {},
   "outputs": [
    {
     "name": "stdout",
     "output_type": "stream",
     "text": [
      "Floating point numbers:       15.1\n"
     ]
    }
   ],
   "source": [
    "print('Floating point numbers: %10.1f' %(15.145))"
   ]
  },
  {
   "cell_type": "code",
   "execution_count": 39,
   "metadata": {},
   "outputs": [
    {
     "name": "stdout",
     "output_type": "stream",
     "text": [
      "my IQ level is 7.23 out of 'Ten'.\n"
     ]
    }
   ],
   "source": [
    "## Multiple formatting \n",
    "print(\"my %s is %1.2f out of %r.\" %('IQ level',7.234,'Ten'))"
   ]
  },
  {
   "cell_type": "markdown",
   "metadata": {},
   "source": [
    "### Formatting with the .Format() Method\n",
    "\n",
    "syntax: 'string { }' .format('new string')"
   ]
  },
  {
   "cell_type": "code",
   "execution_count": 40,
   "metadata": {},
   "outputs": [
    {
     "name": "stdout",
     "output_type": "stream",
     "text": [
      "I am learning python\n"
     ]
    }
   ],
   "source": [
    "print('I am learning {}'.format('python'))"
   ]
  },
  {
   "cell_type": "code",
   "execution_count": 41,
   "metadata": {},
   "outputs": [
    {
     "name": "stdout",
     "output_type": "stream",
     "text": [
      "I am learning python\n"
     ]
    }
   ],
   "source": [
    "## insert object by calling index\n",
    "\n",
    "print('{2} {0} {3} {1}'.format('am','python','I','learning'))"
   ]
  },
  {
   "cell_type": "code",
   "execution_count": 46,
   "metadata": {},
   "outputs": [
    {
     "name": "stdout",
     "output_type": "stream",
     "text": [
      "my IQ level is 7.234 out of Ten.\n"
     ]
    }
   ],
   "source": [
    "## By calling through object\n",
    "\n",
    "print('my {a} is {b} out of {c}.' .format(a ='IQ level',b=7.234,c='Ten'))"
   ]
  },
  {
   "cell_type": "code",
   "execution_count": 48,
   "metadata": {},
   "outputs": [
    {
     "name": "stdout",
     "output_type": "stream",
     "text": [
      "I am learning python and python is not a snake\n",
      "I am learning python and python is not a snake\n"
     ]
    }
   ],
   "source": [
    "print(\"I am learning %s and %s is not a snake\" %('python','python'))\n",
    "print(\"I am learning {a} and {a} is not a snake\" .format(a='python'))"
   ]
  },
  {
   "cell_type": "markdown",
   "metadata": {},
   "source": [
    "### Allignment, padding and precision with .format() method\n",
    "\n",
    "We can assign field lengths, left/right alignments, rounding parameters and more within the curly braces"
   ]
  },
  {
   "cell_type": "code",
   "execution_count": 64,
   "metadata": {},
   "outputs": [
    {
     "name": "stdout",
     "output_type": "stream",
     "text": [
      "Name      | ID       \n",
      "Nirmal    | 23       \n",
      "Suraj     | 34       \n",
      "Ranjan    | 45       \n"
     ]
    }
   ],
   "source": [
    "print('{0:9} | {1:9}'.format('Name','ID'))\n",
    "print('{0:9} | {1:9}'.format('Nirmal','23'))\n",
    "print('{0:9} | {1:9}'.format('Suraj','34'))\n",
    "print('{0:9} | {1:9}'.format('Ranjan','45'))"
   ]
  },
  {
   "cell_type": "code",
   "execution_count": 66,
   "metadata": {},
   "outputs": [
    {
     "name": "stdout",
     "output_type": "stream",
     "text": [
      "Name      |    ID     |     score\n",
      "Nirmal    |    23     |        86\n",
      "Suraj     |    34     |        87\n",
      "Ranjan    |    45     |        88\n"
     ]
    }
   ],
   "source": [
    "#You can pass an optional <,^, or > to set a left, center or right alignment:\n",
    "print('{0:<9} | {1:^9} | {2:>9}'.format('Name','ID','score'))\n",
    "print('{0:<9} | {1:^9} | {2:>9}'.format('Nirmal',23,86))\n",
    "print('{0:<9} | {1:^9} | {2:>9}'.format('Suraj',34,87))\n",
    "print('{0:<9} | {1:^9} | {2:>9}'.format('Ranjan',45,88))"
   ]
  },
  {
   "cell_type": "code",
   "execution_count": 67,
   "metadata": {},
   "outputs": [
    {
     "name": "stdout",
     "output_type": "stream",
     "text": [
      "Name      |    ID     |     score\n",
      "Nirmal--- | ===23==== | .......86\n",
      "Suraj---- | ===34==== | .......87\n",
      "Ranjan--- | ===45==== | .......88\n"
     ]
    }
   ],
   "source": [
    "print('{0:<9} | {1:^9} | {2:>9}'.format('Name','ID','score'))\n",
    "print('{0:-<9} | {1:=^9} | {2:.>9}'.format('Nirmal',23,86))\n",
    "print('{0:-<9} | {1:=^9} | {2:.>9}'.format('Suraj',34,87))\n",
    "print('{0:-<9} | {1:=^9} | {2:.>9}'.format('Ranjan',45,88))"
   ]
  },
  {
   "cell_type": "code",
   "execution_count": 69,
   "metadata": {},
   "outputs": [
    {
     "name": "stdout",
     "output_type": "stream",
     "text": [
      "This is my ten-character, two-decimal number:     13.58\n",
      "This is my ten-character, two-decimal number:     13.58\n"
     ]
    }
   ],
   "source": [
    "#Field widths and float precision are handled in a way similar to placeholders.The following two print statements are equivalent:\n",
    "print('This is my ten-character, two-decimal number:%10.2f' %13.579)\n",
    "print('This is my ten-character, two-decimal number:{0:10.2f}'.format(13.579))\n",
    "#Note that there are 5 spaces following the colon, and 5 characters taken up by 13.58, for a total of ten characters."
   ]
  },
  {
   "cell_type": "markdown",
   "metadata": {},
   "source": [
    "### Formatted String (f-strings)\n",
    "\n",
    "f-strings benefits over the older .format() string method described above. For one, you can bring outside variables immediately into to the string rather than pass them as arguments through .format(var)."
   ]
  },
  {
   "cell_type": "code",
   "execution_count": 70,
   "metadata": {},
   "outputs": [
    {
     "name": "stdout",
     "output_type": "stream",
     "text": [
      "I am learning python\n"
     ]
    }
   ],
   "source": [
    "Subject = 'python'\n",
    "print(f'I am learning {Subject}')"
   ]
  },
  {
   "cell_type": "code",
   "execution_count": 72,
   "metadata": {},
   "outputs": [
    {
     "name": "stdout",
     "output_type": "stream",
     "text": [
      "he said that he is learning 'python'\n"
     ]
    }
   ],
   "source": [
    "print(f\"he said that he is learning {Subject!r}\")"
   ]
  },
  {
   "cell_type": "markdown",
   "metadata": {},
   "source": [
    "### Float formatting follows \"result: {value:{width}.{precision}}\"\n",
    "Where with the .format() method you might see {value:10.4f}, with f-strings this can become {value:{10}.{6}}"
   ]
  },
  {
   "cell_type": "code",
   "execution_count": 78,
   "metadata": {},
   "outputs": [
    {
     "name": "stdout",
     "output_type": "stream",
     "text": [
      "My 10 character, four decimal number is:  123.4568\n",
      "My 10 character, four decimal number is:   123.457\n"
     ]
    }
   ],
   "source": [
    "num = 123.456789\n",
    "print(\"My 10 character, four decimal number is:{0:10.4f}\".format(num))\n",
    "print(f\"My 10 character, four decimal number is:{num:{10}.{6}}\")"
   ]
  },
  {
   "cell_type": "code",
   "execution_count": 79,
   "metadata": {},
   "outputs": [
    {
     "name": "stdout",
     "output_type": "stream",
     "text": [
      "My 10 character, four decimal number is:   23.4500\n",
      "My 10 character, four decimal number is:     23.45\n"
     ]
    }
   ],
   "source": [
    "num = 23.45\n",
    "print(\"My 10 character, four decimal number is:{0:10.4f}\".format(num))\n",
    "print(f\"My 10 character, four decimal number is:{num:{10}.{6}}\")"
   ]
  },
  {
   "cell_type": "code",
   "execution_count": 80,
   "metadata": {},
   "outputs": [
    {
     "name": "stdout",
     "output_type": "stream",
     "text": [
      "My 10 character, four decimal number is:   23.4500\n",
      "My 10 character, four decimal number is:   23.4500\n"
     ]
    }
   ],
   "source": [
    "num = 23.45\n",
    "print(\"My 10 character, four decimal number is:{0:10.4f}\".format(num))\n",
    "print(f\"My 10 character, four decimal number is:{num:10.4f}\")"
   ]
  },
  {
   "cell_type": "code",
   "execution_count": null,
   "metadata": {},
   "outputs": [],
   "source": []
  }
 ],
 "metadata": {
  "kernelspec": {
   "display_name": "Python 3",
   "language": "python",
   "name": "python3"
  },
  "language_info": {
   "codemirror_mode": {
    "name": "ipython",
    "version": 3
   },
   "file_extension": ".py",
   "mimetype": "text/x-python",
   "name": "python",
   "nbconvert_exporter": "python",
   "pygments_lexer": "ipython3",
   "version": "3.6.5"
  }
 },
 "nbformat": 4,
 "nbformat_minor": 2
}
